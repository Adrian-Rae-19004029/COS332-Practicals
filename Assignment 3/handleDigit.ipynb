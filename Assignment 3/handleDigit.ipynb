{
 "cells": [
  {
   "cell_type": "code",
   "execution_count": 46,
   "metadata": {},
   "outputs": [
    {
     "ename": "ModuleNotFoundError",
     "evalue": "No module named 'standardDisplay'",
     "output_type": "error",
     "traceback": [
      "\u001b[1;31m---------------------------------------------------------------------------\u001b[0m",
      "\u001b[1;31mModuleNotFoundError\u001b[0m                       Traceback (most recent call last)",
      "\u001b[1;32m<ipython-input-46-65e9d4771bcf>\u001b[0m in \u001b[0;36m<module>\u001b[1;34m\u001b[0m\n\u001b[0;32m      1\u001b[0m \u001b[1;32mimport\u001b[0m \u001b[0mjson\u001b[0m\u001b[1;33m\u001b[0m\u001b[1;33m\u001b[0m\u001b[0m\n\u001b[0;32m      2\u001b[0m \u001b[1;32mimport\u001b[0m \u001b[0mrandom\u001b[0m\u001b[1;33m\u001b[0m\u001b[1;33m\u001b[0m\u001b[0m\n\u001b[1;32m----> 3\u001b[1;33m \u001b[1;32mfrom\u001b[0m \u001b[0mstandardDisplay\u001b[0m \u001b[1;32mimport\u001b[0m \u001b[1;33m*\u001b[0m\u001b[1;33m\u001b[0m\u001b[1;33m\u001b[0m\u001b[0m\n\u001b[0m\u001b[0;32m      4\u001b[0m \u001b[1;33m\u001b[0m\u001b[0m\n\u001b[0;32m      5\u001b[0m \u001b[1;32mdef\u001b[0m \u001b[0mhandleDigit\u001b[0m\u001b[1;33m(\u001b[0m\u001b[0mdigit\u001b[0m\u001b[1;33m)\u001b[0m\u001b[1;33m:\u001b[0m\u001b[1;33m\u001b[0m\u001b[1;33m\u001b[0m\u001b[0m\n",
      "\u001b[1;31mModuleNotFoundError\u001b[0m: No module named 'standardDisplay'"
     ]
    }
   ],
   "source": [
    "import json\n",
    "import random\n",
    "from standardDisplay import *\n",
    "\n",
    "def handleDigit(digit):\n",
    "    #write to stream\n",
    "    stream = getFileContents()\n",
    "    currNumber = \"\"\n",
    "    \n",
    "    if (len(stream)!=0 and stream[-1].isdigit()):\n",
    "        currNumber = stream[-1]\n",
    "        currNumber+=str(digit)\n",
    "        stream[-1] = currNumber      \n",
    "    else:\n",
    "        currNumber+=str(digit)\n",
    "        stream.append(currNumber)     \n",
    "    writeJSONToFile(stream)\n",
    "    \n",
    "    #display the stream\n",
    "    stdDis.changeOutput(streamToString(stream))\n",
    "    stdDis.printOutput()\n",
    "\n",
    "def writeJSONToFile(j):\n",
    "    f = open('inputStream.txt', 'w')\n",
    "    json.dump(j, f)\n",
    "    f.close()\n",
    "\n",
    "def getFileContents():\n",
    "    f = open('inputStream.txt', 'r')\n",
    "    x = json.load(f)\n",
    "    f.close()\n",
    "    return x\n",
    "\n",
    "def streamToString(stream):\n",
    "    return \"\".join(stream)\n",
    "\n",
    "    \n"
   ]
  },
  {
   "cell_type": "code",
   "execution_count": null,
   "metadata": {},
   "outputs": [],
   "source": []
  }
 ],
 "metadata": {
  "kernelspec": {
   "display_name": "Python 3",
   "language": "python",
   "name": "python3"
  },
  "language_info": {
   "codemirror_mode": {
    "name": "ipython",
    "version": 3
   },
   "file_extension": ".py",
   "mimetype": "text/x-python",
   "name": "python",
   "nbconvert_exporter": "python",
   "pygments_lexer": "ipython3",
   "version": "3.8.5"
  }
 },
 "nbformat": 4,
 "nbformat_minor": 4
}
