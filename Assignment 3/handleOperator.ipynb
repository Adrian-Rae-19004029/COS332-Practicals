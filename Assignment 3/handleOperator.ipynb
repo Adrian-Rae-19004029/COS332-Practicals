{
 "cells": [
  {
   "cell_type": "code",
   "execution_count": 33,
   "metadata": {},
   "outputs": [
    {
     "ename": "ImportError",
     "evalue": "cannot import name 'printOutput' from 'standardDisplay' (C:\\Users\\HP\\Documents\\University of Pretoria\\YEAR 3\\SEMESTER 1\\COS332 - Networking\\Assignments\\COS332-Practicals\\Assignment 3\\standardDisplay.py)",
     "output_type": "error",
     "traceback": [
      "\u001b[1;31m---------------------------------------------------------------------------\u001b[0m",
      "\u001b[1;31mImportError\u001b[0m                               Traceback (most recent call last)",
      "\u001b[1;32m<ipython-input-33-23b0cce7ffb3>\u001b[0m in \u001b[0;36m<module>\u001b[1;34m\u001b[0m\n\u001b[0;32m      1\u001b[0m \u001b[1;32mimport\u001b[0m \u001b[0mjson\u001b[0m\u001b[1;33m\u001b[0m\u001b[1;33m\u001b[0m\u001b[0m\n\u001b[0;32m      2\u001b[0m \u001b[1;32mimport\u001b[0m \u001b[0mrandom\u001b[0m\u001b[1;33m\u001b[0m\u001b[1;33m\u001b[0m\u001b[0m\n\u001b[1;32m----> 3\u001b[1;33m \u001b[1;32mfrom\u001b[0m \u001b[0mstandardDisplay\u001b[0m \u001b[1;32mimport\u001b[0m \u001b[0mprintOutput\u001b[0m\u001b[1;33m\u001b[0m\u001b[1;33m\u001b[0m\u001b[0m\n\u001b[0m\u001b[0;32m      4\u001b[0m \u001b[1;33m\u001b[0m\u001b[0m\n\u001b[0;32m      5\u001b[0m \u001b[1;32mdef\u001b[0m \u001b[0mhandleOperator\u001b[0m\u001b[1;33m(\u001b[0m\u001b[0moperator\u001b[0m\u001b[1;33m)\u001b[0m\u001b[1;33m:\u001b[0m\u001b[1;33m\u001b[0m\u001b[1;33m\u001b[0m\u001b[0m\n",
      "\u001b[1;31mImportError\u001b[0m: cannot import name 'printOutput' from 'standardDisplay' (C:\\Users\\HP\\Documents\\University of Pretoria\\YEAR 3\\SEMESTER 1\\COS332 - Networking\\Assignments\\COS332-Practicals\\Assignment 3\\standardDisplay.py)"
     ]
    }
   ],
   "source": [
    "import json\n",
    "import random\n",
    "from standardDisplay import printOutput\n",
    "\n",
    "def handleOperator(operator):\n",
    "    #write to stream\n",
    "    stream = getFileContents()\n",
    "    if (operator==\"=\"):\n",
    "        processStream(stream)\n",
    "            \n",
    "    else:\n",
    "        if (len(stream)!=0 and stream[-1].isdigit()):\n",
    "            #add operator to stream\n",
    "            stream.append(operator)\n",
    "            #error handling for badly placed operator     \n",
    "        writeJSONToFile(stream)\n",
    "\n",
    "    #display the stream\n",
    "    #stdDis.changeOutput(streamToString(stream))\n",
    "    #stdDis.printOutput()\n",
    "\n",
    "def writeJSONToFile(j):\n",
    "    f = open('inputStream.txt', 'w')\n",
    "    json.dump(j, f)\n",
    "    f.close()\n",
    "\n",
    "def getFileContents():\n",
    "    f = open('inputStream.txt', 'r')\n",
    "    x = json.load(f)\n",
    "    f.close()\n",
    "    return x\n",
    "\n",
    "def streamToString(stream):\n",
    "    return \"\".join(stream)\n",
    "\n",
    "def processStream(stream):\n",
    "    #lets assume valid: it looks like [x,+,y,*,z,-,k]\n",
    "    finished = False\n",
    "    i = 0;\n",
    "    while (not finished):\n",
    "        if(stream[i]==\"*\" or stream[i]==\"/\"):\n",
    "            op = stream[i]\n",
    "            leftOp = stream[i-1]\n",
    "            rightOp = stream[i+1]\n",
    "            calcValue = 0;\n",
    "            if(stream[i]==\"*\"):\n",
    "                calcValue = leftOp*rightOp\n",
    "            else:\n",
    "                calcValue = leftOp/rightOp\n",
    "            stream = stream[0:i-1]+[calcValue]+stream[i+2:]\n",
    "            i = -1\n",
    "        i = i+1;\n",
    "        if(i==len(stream)):\n",
    "            finished = True\n",
    "    \n",
    "    finished = False\n",
    "    j = 0;\n",
    "    while (not finished):\n",
    "        if(stream[j]==\"+\" or stream[j]==\"-\"):\n",
    "            op = stream[j]\n",
    "            leftOp = stream[j-1]\n",
    "            rightOp = stream[j+1]\n",
    "            calcValue = 0;\n",
    "            if(stream[j]==\"+\"):\n",
    "                calcValue = leftOp+rightOp\n",
    "            else:\n",
    "                calcValue = leftOp-rightOp\n",
    "            stream = stream[0:j-1]+[calcValue]+stream[j+2:]\n",
    "            j = -1\n",
    "        j = j+1;\n",
    "        if(j==len(stream)):\n",
    "            finished = True                \n",
    "    return 1*stream[0]\n",
    "\n",
    "print(processStream([2]))\n",
    "printOutput()"
   ]
  },
  {
   "cell_type": "code",
   "execution_count": null,
   "metadata": {},
   "outputs": [],
   "source": []
  }
 ],
 "metadata": {
  "kernelspec": {
   "display_name": "Python 3",
   "language": "python",
   "name": "python3"
  },
  "language_info": {
   "codemirror_mode": {
    "name": "ipython",
    "version": 3
   },
   "file_extension": ".py",
   "mimetype": "text/x-python",
   "name": "python",
   "nbconvert_exporter": "python",
   "pygments_lexer": "ipython3",
   "version": "3.8.5"
  }
 },
 "nbformat": 4,
 "nbformat_minor": 4
}
