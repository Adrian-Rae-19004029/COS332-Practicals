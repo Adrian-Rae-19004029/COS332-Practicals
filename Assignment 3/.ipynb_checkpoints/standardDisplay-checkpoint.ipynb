{
 "cells": [
  {
   "cell_type": "code",
   "execution_count": 2,
   "metadata": {},
   "outputs": [
    {
     "name": "stdout",
     "output_type": "stream",
     "text": [
      "hello\n",
      "there\n",
      "general\n",
      "kenobi\n"
     ]
    }
   ],
   "source": [
    "output = [\n",
    "    \"hello\",\n",
    "    \"there\",\n",
    "    \"general\",\n",
    "    \"kenobi\"\n",
    "]\n",
    "\n",
    "def changeOutput(displayString):\n",
    "    #changes that one line of html in output\n",
    "\n",
    "def printOutput():\n",
    "    for line in output:\n",
    "        print(line)"
   ]
  },
  {
   "cell_type": "code",
   "execution_count": null,
   "metadata": {},
   "outputs": [],
   "source": []
  }
 ],
 "metadata": {
  "kernelspec": {
   "display_name": "Python 3",
   "language": "python",
   "name": "python3"
  },
  "language_info": {
   "codemirror_mode": {
    "name": "ipython",
    "version": 3
   },
   "file_extension": ".py",
   "mimetype": "text/x-python",
   "name": "python",
   "nbconvert_exporter": "python",
   "pygments_lexer": "ipython3",
   "version": "3.8.5"
  }
 },
 "nbformat": 4,
 "nbformat_minor": 4
}
